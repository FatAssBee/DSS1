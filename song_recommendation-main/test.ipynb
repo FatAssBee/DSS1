import pandas as pd
df = pd.read_csv("data/filtered_track_df.csv")
df.head()
